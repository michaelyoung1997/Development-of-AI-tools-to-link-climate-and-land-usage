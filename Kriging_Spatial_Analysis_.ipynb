{
  "nbformat": 4,
  "nbformat_minor": 0,
  "metadata": {
    "colab": {
      "name": "Kriging Spatial Analysis .ipynb",
      "provenance": [],
      "collapsed_sections": [],
      "machine_shape": "hm",
      "include_colab_link": true
    },
    "kernelspec": {
      "name": "python3",
      "display_name": "Python 3"
    }
  },
  "cells": [
    {
      "cell_type": "markdown",
      "metadata": {
        "id": "view-in-github",
        "colab_type": "text"
      },
      "source": [
        "<a href=\"https://colab.research.google.com/github/michaelyoung1997/Development-of-AI-tools-to-link-climate-and-land-usage/blob/master/Kriging_Spatial_Analysis_.ipynb\" target=\"_parent\"><img src=\"https://colab.research.google.com/assets/colab-badge.svg\" alt=\"Open In Colab\"/></a>"
      ]
    },
    {
      "cell_type": "code",
      "metadata": {
        "id": "lEJZ9aLhKUNF",
        "colab_type": "code",
        "colab": {}
      },
      "source": [
        "import pandas as pd\n",
        "import numpy as np\n",
        "import matplotlib.pyplot as plt"
      ],
      "execution_count": null,
      "outputs": []
    },
    {
      "cell_type": "code",
      "metadata": {
        "id": "OGZXyoKMzQo9",
        "colab_type": "code",
        "colab": {
          "base_uri": "https://localhost:8080/",
          "height": 123
        },
        "outputId": "1f45498a-9ed6-490f-e2ed-3d348655d210"
      },
      "source": [
        "from google.colab import drive\n",
        "drive.mount('/content/drive')"
      ],
      "execution_count": null,
      "outputs": [
        {
          "output_type": "stream",
          "text": [
            "Go to this URL in a browser: https://accounts.google.com/o/oauth2/auth?client_id=947318989803-6bn6qk8qdgf4n4g3pfee6491hc0brc4i.apps.googleusercontent.com&redirect_uri=urn%3aietf%3awg%3aoauth%3a2.0%3aoob&response_type=code&scope=email%20https%3a%2f%2fwww.googleapis.com%2fauth%2fdocs.test%20https%3a%2f%2fwww.googleapis.com%2fauth%2fdrive%20https%3a%2f%2fwww.googleapis.com%2fauth%2fdrive.photos.readonly%20https%3a%2f%2fwww.googleapis.com%2fauth%2fpeopleapi.readonly\n",
            "\n",
            "Enter your authorization code:\n",
            "··········\n",
            "Mounted at /content/drive\n"
          ],
          "name": "stdout"
        }
      ]
    },
    {
      "cell_type": "code",
      "metadata": {
        "id": "V15vxju8dCkk",
        "colab_type": "code",
        "colab": {}
      },
      "source": [
        "lst_both=pd.read_csv('/content/drive/My Drive/Project/lst_both.csv', index_col=0)\n",
        "lst07_ge=pd.read_csv('/content/drive/My Drive/Project/lst07_gee.csv', index_col=0)\n",
        "lst07=pd.read_csv('/content/drive/My Drive/Project/lst07.csv', index_col=0)\n",
        "lst15=pd.read_csv('/content/drive/My Drive/Project/lst15.csv', index_col=0)\n",
        "targets=pd.read_csv('/content/drive/My Drive/Project/targets.csv', index_col=0)"
      ],
      "execution_count": null,
      "outputs": []
    },
    {
      "cell_type": "code",
      "metadata": {
        "id": "f98UosJHeWac",
        "colab_type": "code",
        "colab": {
          "base_uri": "https://localhost:8080/",
          "height": 468
        },
        "outputId": "a98b584e-8104-4814-b712-ad2c3425773b"
      },
      "source": [
        "combined07=pd.concat([lst07, targets], join='inner', axis=1)\n",
        "combined15=pd.concat([lst15, targets], join='inner', axis=1)\n",
        "\n",
        "combined07"
      ],
      "execution_count": null,
      "outputs": [
        {
          "output_type": "execute_result",
          "data": {
            "text/html": [
              "<div>\n",
              "<style scoped>\n",
              "    .dataframe tbody tr th:only-of-type {\n",
              "        vertical-align: middle;\n",
              "    }\n",
              "\n",
              "    .dataframe tbody tr th {\n",
              "        vertical-align: top;\n",
              "    }\n",
              "\n",
              "    .dataframe thead th {\n",
              "        text-align: right;\n",
              "    }\n",
              "</style>\n",
              "<table border=\"1\" class=\"dataframe\">\n",
              "  <thead>\n",
              "    <tr style=\"text-align: right;\">\n",
              "      <th></th>\n",
              "      <th>Northing</th>\n",
              "      <th>Easting</th>\n",
              "      <th>Broadleaf woodland</th>\n",
              "      <th>Coniferous woodland</th>\n",
              "      <th>Arable</th>\n",
              "      <th>Improved Grassland</th>\n",
              "      <th>Semi-natural grassland</th>\n",
              "      <th>Mountain Heath</th>\n",
              "      <th>Saltwater</th>\n",
              "      <th>Freshwater</th>\n",
              "      <th>Coastal</th>\n",
              "      <th>Built-up/gardens</th>\n",
              "      <th>elevation</th>\n",
              "      <th>pop_density</th>\n",
              "      <th>Feb_2007_EVI</th>\n",
              "      <th>Jul_2007_EVI</th>\n",
              "      <th>Nov_2007_EVI</th>\n",
              "      <th>Inland</th>\n",
              "      <th>topography</th>\n",
              "      <th>Mineral</th>\n",
              "      <th>Organic Mineral</th>\n",
              "      <th>Organic</th>\n",
              "      <th>Feb_2007_LST</th>\n",
              "      <th>Jul_2007_LST</th>\n",
              "      <th>Nov_2007_LST</th>\n",
              "      <th>Feb_2015_LST</th>\n",
              "      <th>Jul_2015_LST</th>\n",
              "      <th>Nov_2015_LST</th>\n",
              "      <th>LST_2007</th>\n",
              "      <th>LST_2015</th>\n",
              "    </tr>\n",
              "  </thead>\n",
              "  <tbody>\n",
              "    <tr>\n",
              "      <th>0</th>\n",
              "      <td>661.0</td>\n",
              "      <td>348.0</td>\n",
              "      <td>5</td>\n",
              "      <td>9</td>\n",
              "      <td>15</td>\n",
              "      <td>29</td>\n",
              "      <td>27</td>\n",
              "      <td>6</td>\n",
              "      <td>0</td>\n",
              "      <td>0</td>\n",
              "      <td>0</td>\n",
              "      <td>3</td>\n",
              "      <td>224</td>\n",
              "      <td>2.820140</td>\n",
              "      <td>0.237948</td>\n",
              "      <td>0.350908</td>\n",
              "      <td>0.237948</td>\n",
              "      <td>38.013156</td>\n",
              "      <td>142.0</td>\n",
              "      <td>0.0</td>\n",
              "      <td>1.0</td>\n",
              "      <td>0.0</td>\n",
              "      <td>13927.727273</td>\n",
              "      <td>14543.400000</td>\n",
              "      <td>13905.375000</td>\n",
              "      <td>13886.000000</td>\n",
              "      <td>14451.500000</td>\n",
              "      <td>13966.375000</td>\n",
              "      <td>14176.489796</td>\n",
              "      <td>14190.820225</td>\n",
              "    </tr>\n",
              "    <tr>\n",
              "      <th>1</th>\n",
              "      <td>849.0</td>\n",
              "      <td>367.0</td>\n",
              "      <td>6</td>\n",
              "      <td>3</td>\n",
              "      <td>0</td>\n",
              "      <td>40</td>\n",
              "      <td>18</td>\n",
              "      <td>27</td>\n",
              "      <td>0</td>\n",
              "      <td>0</td>\n",
              "      <td>0</td>\n",
              "      <td>0</td>\n",
              "      <td>160</td>\n",
              "      <td>3.071964</td>\n",
              "      <td>0.137649</td>\n",
              "      <td>0.308139</td>\n",
              "      <td>0.137649</td>\n",
              "      <td>29.966648</td>\n",
              "      <td>281.0</td>\n",
              "      <td>0.0</td>\n",
              "      <td>1.0</td>\n",
              "      <td>0.0</td>\n",
              "      <td>13992.666667</td>\n",
              "      <td>14504.200000</td>\n",
              "      <td>13944.000000</td>\n",
              "      <td>13735.714286</td>\n",
              "      <td>14672.400000</td>\n",
              "      <td>14050.000000</td>\n",
              "      <td>14290.393617</td>\n",
              "      <td>14255.923077</td>\n",
              "    </tr>\n",
              "    <tr>\n",
              "      <th>2</th>\n",
              "      <td>866.0</td>\n",
              "      <td>369.0</td>\n",
              "      <td>7</td>\n",
              "      <td>0</td>\n",
              "      <td>2</td>\n",
              "      <td>59</td>\n",
              "      <td>7</td>\n",
              "      <td>0</td>\n",
              "      <td>0</td>\n",
              "      <td>0</td>\n",
              "      <td>0</td>\n",
              "      <td>17</td>\n",
              "      <td>101</td>\n",
              "      <td>89.064470</td>\n",
              "      <td>0.238271</td>\n",
              "      <td>0.223778</td>\n",
              "      <td>0.238271</td>\n",
              "      <td>38.600518</td>\n",
              "      <td>28.0</td>\n",
              "      <td>0.0</td>\n",
              "      <td>1.0</td>\n",
              "      <td>0.0</td>\n",
              "      <td>13950.444444</td>\n",
              "      <td>14162.000000</td>\n",
              "      <td>13912.500000</td>\n",
              "      <td>13836.333333</td>\n",
              "      <td>14481.166667</td>\n",
              "      <td>14009.500000</td>\n",
              "      <td>14202.323810</td>\n",
              "      <td>14318.153846</td>\n",
              "    </tr>\n",
              "    <tr>\n",
              "      <th>3</th>\n",
              "      <td>1059.0</td>\n",
              "      <td>336.0</td>\n",
              "      <td>7</td>\n",
              "      <td>2</td>\n",
              "      <td>58</td>\n",
              "      <td>17</td>\n",
              "      <td>8</td>\n",
              "      <td>0</td>\n",
              "      <td>0</td>\n",
              "      <td>0</td>\n",
              "      <td>0</td>\n",
              "      <td>0</td>\n",
              "      <td>87</td>\n",
              "      <td>18.957787</td>\n",
              "      <td>0.126493</td>\n",
              "      <td>0.335886</td>\n",
              "      <td>0.126493</td>\n",
              "      <td>53.851648</td>\n",
              "      <td>-59.0</td>\n",
              "      <td>1.0</td>\n",
              "      <td>0.0</td>\n",
              "      <td>0.0</td>\n",
              "      <td>13891.555556</td>\n",
              "      <td>14670.555556</td>\n",
              "      <td>13984.666667</td>\n",
              "      <td>13909.857143</td>\n",
              "      <td>14681.833333</td>\n",
              "      <td>14039.000000</td>\n",
              "      <td>14302.655462</td>\n",
              "      <td>14335.524272</td>\n",
              "    </tr>\n",
              "    <tr>\n",
              "      <th>4</th>\n",
              "      <td>1085.0</td>\n",
              "      <td>525.0</td>\n",
              "      <td>14</td>\n",
              "      <td>0</td>\n",
              "      <td>35</td>\n",
              "      <td>25</td>\n",
              "      <td>0</td>\n",
              "      <td>0</td>\n",
              "      <td>0</td>\n",
              "      <td>0</td>\n",
              "      <td>0</td>\n",
              "      <td>20</td>\n",
              "      <td>62</td>\n",
              "      <td>627.128300</td>\n",
              "      <td>0.149533</td>\n",
              "      <td>0.266729</td>\n",
              "      <td>0.149533</td>\n",
              "      <td>67.475922</td>\n",
              "      <td>-22.0</td>\n",
              "      <td>1.0</td>\n",
              "      <td>0.0</td>\n",
              "      <td>0.0</td>\n",
              "      <td>13929.000000</td>\n",
              "      <td>14715.000000</td>\n",
              "      <td>14102.444444</td>\n",
              "      <td>13960.875000</td>\n",
              "      <td>15053.500000</td>\n",
              "      <td>14138.166667</td>\n",
              "      <td>14391.133929</td>\n",
              "      <td>14395.432692</td>\n",
              "    </tr>\n",
              "    <tr>\n",
              "      <th>...</th>\n",
              "      <td>...</td>\n",
              "      <td>...</td>\n",
              "      <td>...</td>\n",
              "      <td>...</td>\n",
              "      <td>...</td>\n",
              "      <td>...</td>\n",
              "      <td>...</td>\n",
              "      <td>...</td>\n",
              "      <td>...</td>\n",
              "      <td>...</td>\n",
              "      <td>...</td>\n",
              "      <td>...</td>\n",
              "      <td>...</td>\n",
              "      <td>...</td>\n",
              "      <td>...</td>\n",
              "      <td>...</td>\n",
              "      <td>...</td>\n",
              "      <td>...</td>\n",
              "      <td>...</td>\n",
              "      <td>...</td>\n",
              "      <td>...</td>\n",
              "      <td>...</td>\n",
              "      <td>...</td>\n",
              "      <td>...</td>\n",
              "      <td>...</td>\n",
              "      <td>...</td>\n",
              "      <td>...</td>\n",
              "      <td>...</td>\n",
              "      <td>...</td>\n",
              "      <td>...</td>\n",
              "    </tr>\n",
              "    <tr>\n",
              "      <th>9995</th>\n",
              "      <td>1190.0</td>\n",
              "      <td>539.0</td>\n",
              "      <td>5</td>\n",
              "      <td>0</td>\n",
              "      <td>26</td>\n",
              "      <td>53</td>\n",
              "      <td>3</td>\n",
              "      <td>0</td>\n",
              "      <td>0</td>\n",
              "      <td>0</td>\n",
              "      <td>0</td>\n",
              "      <td>7</td>\n",
              "      <td>86</td>\n",
              "      <td>472.045070</td>\n",
              "      <td>0.240806</td>\n",
              "      <td>0.291955</td>\n",
              "      <td>0.240806</td>\n",
              "      <td>5.830952</td>\n",
              "      <td>274.0</td>\n",
              "      <td>0.0</td>\n",
              "      <td>1.0</td>\n",
              "      <td>0.0</td>\n",
              "      <td>14019.375000</td>\n",
              "      <td>14667.666667</td>\n",
              "      <td>14134.888889</td>\n",
              "      <td>13923.285714</td>\n",
              "      <td>14876.833333</td>\n",
              "      <td>13475.500000</td>\n",
              "      <td>14424.739130</td>\n",
              "      <td>14461.098039</td>\n",
              "    </tr>\n",
              "    <tr>\n",
              "      <th>9996</th>\n",
              "      <td>548.0</td>\n",
              "      <td>303.0</td>\n",
              "      <td>3</td>\n",
              "      <td>8</td>\n",
              "      <td>2</td>\n",
              "      <td>10</td>\n",
              "      <td>13</td>\n",
              "      <td>57</td>\n",
              "      <td>0</td>\n",
              "      <td>1</td>\n",
              "      <td>0</td>\n",
              "      <td>0</td>\n",
              "      <td>358</td>\n",
              "      <td>2.517340</td>\n",
              "      <td>0.124496</td>\n",
              "      <td>0.253098</td>\n",
              "      <td>0.124496</td>\n",
              "      <td>47.885280</td>\n",
              "      <td>-142.0</td>\n",
              "      <td>1.0</td>\n",
              "      <td>0.0</td>\n",
              "      <td>0.0</td>\n",
              "      <td>13843.800000</td>\n",
              "      <td>14507.333333</td>\n",
              "      <td>13894.916667</td>\n",
              "      <td>13873.666667</td>\n",
              "      <td>14544.000000</td>\n",
              "      <td>13884.571429</td>\n",
              "      <td>14197.608247</td>\n",
              "      <td>14196.988235</td>\n",
              "    </tr>\n",
              "    <tr>\n",
              "      <th>9997</th>\n",
              "      <td>1173.0</td>\n",
              "      <td>272.0</td>\n",
              "      <td>7</td>\n",
              "      <td>2</td>\n",
              "      <td>15</td>\n",
              "      <td>65</td>\n",
              "      <td>3</td>\n",
              "      <td>0</td>\n",
              "      <td>0</td>\n",
              "      <td>0</td>\n",
              "      <td>0</td>\n",
              "      <td>1</td>\n",
              "      <td>109</td>\n",
              "      <td>22.139850</td>\n",
              "      <td>0.196956</td>\n",
              "      <td>0.270083</td>\n",
              "      <td>0.196956</td>\n",
              "      <td>22.847319</td>\n",
              "      <td>-27.0</td>\n",
              "      <td>1.0</td>\n",
              "      <td>0.0</td>\n",
              "      <td>0.0</td>\n",
              "      <td>14058.750000</td>\n",
              "      <td>14656.000000</td>\n",
              "      <td>14016.750000</td>\n",
              "      <td>13922.555556</td>\n",
              "      <td>14650.000000</td>\n",
              "      <td>13875.833333</td>\n",
              "      <td>14395.715686</td>\n",
              "      <td>14346.495238</td>\n",
              "    </tr>\n",
              "    <tr>\n",
              "      <th>9998</th>\n",
              "      <td>1007.0</td>\n",
              "      <td>397.0</td>\n",
              "      <td>2</td>\n",
              "      <td>0</td>\n",
              "      <td>3</td>\n",
              "      <td>11</td>\n",
              "      <td>0</td>\n",
              "      <td>0</td>\n",
              "      <td>0</td>\n",
              "      <td>0</td>\n",
              "      <td>0</td>\n",
              "      <td>80</td>\n",
              "      <td>131</td>\n",
              "      <td>4554.672400</td>\n",
              "      <td>0.070320</td>\n",
              "      <td>0.166667</td>\n",
              "      <td>0.070320</td>\n",
              "      <td>113.718952</td>\n",
              "      <td>19.0</td>\n",
              "      <td>1.0</td>\n",
              "      <td>0.0</td>\n",
              "      <td>0.0</td>\n",
              "      <td>13994.857143</td>\n",
              "      <td>14806.222222</td>\n",
              "      <td>14130.500000</td>\n",
              "      <td>13983.111111</td>\n",
              "      <td>14982.000000</td>\n",
              "      <td>14071.500000</td>\n",
              "      <td>14525.093458</td>\n",
              "      <td>14432.736842</td>\n",
              "    </tr>\n",
              "    <tr>\n",
              "      <th>9999</th>\n",
              "      <td>1067.0</td>\n",
              "      <td>267.0</td>\n",
              "      <td>5</td>\n",
              "      <td>2</td>\n",
              "      <td>2</td>\n",
              "      <td>70</td>\n",
              "      <td>15</td>\n",
              "      <td>0</td>\n",
              "      <td>0</td>\n",
              "      <td>0</td>\n",
              "      <td>0</td>\n",
              "      <td>0</td>\n",
              "      <td>164</td>\n",
              "      <td>15.277124</td>\n",
              "      <td>0.208166</td>\n",
              "      <td>0.292585</td>\n",
              "      <td>0.208166</td>\n",
              "      <td>37.443290</td>\n",
              "      <td>-89.0</td>\n",
              "      <td>0.0</td>\n",
              "      <td>1.0</td>\n",
              "      <td>0.0</td>\n",
              "      <td>13991.571429</td>\n",
              "      <td>14601.000000</td>\n",
              "      <td>13915.000000</td>\n",
              "      <td>13880.250000</td>\n",
              "      <td>14686.750000</td>\n",
              "      <td>14272.800000</td>\n",
              "      <td>14355.392157</td>\n",
              "      <td>14356.174312</td>\n",
              "    </tr>\n",
              "  </tbody>\n",
              "</table>\n",
              "<p>9631 rows × 30 columns</p>\n",
              "</div>"
            ],
            "text/plain": [
              "      Northing  Easting  ...      LST_2007      LST_2015\n",
              "0        661.0    348.0  ...  14176.489796  14190.820225\n",
              "1        849.0    367.0  ...  14290.393617  14255.923077\n",
              "2        866.0    369.0  ...  14202.323810  14318.153846\n",
              "3       1059.0    336.0  ...  14302.655462  14335.524272\n",
              "4       1085.0    525.0  ...  14391.133929  14395.432692\n",
              "...        ...      ...  ...           ...           ...\n",
              "9995    1190.0    539.0  ...  14424.739130  14461.098039\n",
              "9996     548.0    303.0  ...  14197.608247  14196.988235\n",
              "9997    1173.0    272.0  ...  14395.715686  14346.495238\n",
              "9998    1007.0    397.0  ...  14525.093458  14432.736842\n",
              "9999    1067.0    267.0  ...  14355.392157  14356.174312\n",
              "\n",
              "[9631 rows x 30 columns]"
            ]
          },
          "metadata": {
            "tags": []
          },
          "execution_count": 10
        }
      ]
    },
    {
      "cell_type": "code",
      "metadata": {
        "id": "diVywIPzKU-X",
        "colab_type": "code",
        "colab": {
          "base_uri": "https://localhost:8080/",
          "height": 430
        },
        "outputId": "5dd53bb6-2491-4907-d79c-e43d11b76af6"
      },
      "source": [
        "!pip install rasterio \n",
        "import rasterio\n",
        "!pip install pykrige"
      ],
      "execution_count": null,
      "outputs": [
        {
          "output_type": "stream",
          "text": [
            "Collecting rasterio\n",
            "\u001b[?25l  Downloading https://files.pythonhosted.org/packages/02/7e/eed7dfd109fc89ed3cf8b5ed3f26f841b03b92f6ca1c31c4745f938a081b/rasterio-1.1.5-cp36-cp36m-manylinux1_x86_64.whl (18.2MB)\n",
            "\u001b[K     |████████████████████████████████| 18.2MB 229kB/s \n",
            "\u001b[?25hRequirement already satisfied: attrs in /usr/local/lib/python3.6/dist-packages (from rasterio) (19.3.0)\n",
            "Requirement already satisfied: numpy in /usr/local/lib/python3.6/dist-packages (from rasterio) (1.18.5)\n",
            "Requirement already satisfied: click<8,>=4.0 in /usr/local/lib/python3.6/dist-packages (from rasterio) (7.1.2)\n",
            "Collecting affine\n",
            "  Downloading https://files.pythonhosted.org/packages/ac/a6/1a39a1ede71210e3ddaf623982b06ecfc5c5c03741ae659073159184cd3e/affine-2.3.0-py2.py3-none-any.whl\n",
            "Collecting click-plugins\n",
            "  Downloading https://files.pythonhosted.org/packages/e9/da/824b92d9942f4e472702488857914bdd50f73021efea15b4cad9aca8ecef/click_plugins-1.1.1-py2.py3-none-any.whl\n",
            "Collecting snuggs>=1.4.1\n",
            "  Downloading https://files.pythonhosted.org/packages/cc/0e/d27d6e806d6c0d1a2cfdc5d1f088e42339a0a54a09c3343f7f81ec8947ea/snuggs-1.4.7-py3-none-any.whl\n",
            "Collecting cligj>=0.5\n",
            "  Downloading https://files.pythonhosted.org/packages/e4/be/30a58b4b0733850280d01f8bd132591b4668ed5c7046761098d665ac2174/cligj-0.5.0-py3-none-any.whl\n",
            "Requirement already satisfied: pyparsing>=2.1.6 in /usr/local/lib/python3.6/dist-packages (from snuggs>=1.4.1->rasterio) (2.4.7)\n",
            "Installing collected packages: affine, click-plugins, snuggs, cligj, rasterio\n",
            "Successfully installed affine-2.3.0 click-plugins-1.1.1 cligj-0.5.0 rasterio-1.1.5 snuggs-1.4.7\n",
            "Collecting pykrige\n",
            "\u001b[?25l  Downloading https://files.pythonhosted.org/packages/94/16/a37be67b6eff817a44b548e1c4012df6201ea7fc0f9d59bc1a455e6924f9/PyKrige-1.5.0-cp36-cp36m-manylinux2010_x86_64.whl (968kB)\n",
            "\u001b[K     |████████████████████████████████| 972kB 7.6MB/s \n",
            "\u001b[?25hRequirement already satisfied: scipy>=1.1.0 in /usr/local/lib/python3.6/dist-packages (from pykrige) (1.4.1)\n",
            "Requirement already satisfied: numpy>=1.14.5 in /usr/local/lib/python3.6/dist-packages (from pykrige) (1.18.5)\n",
            "Installing collected packages: pykrige\n",
            "Successfully installed pykrige-1.5.0\n"
          ],
          "name": "stdout"
        }
      ]
    },
    {
      "cell_type": "code",
      "metadata": {
        "id": "KSVWE6OZKiLA",
        "colab_type": "code",
        "colab": {
          "base_uri": "https://localhost:8080/",
          "height": 34
        },
        "outputId": "b3db77bf-a500-4a3f-f859-b9c41aad54c6"
      },
      "source": [
        "altitudes= rasterio.open('/content/drive/My Drive/Project/uk_dem_bng2.tif').read(1)\n",
        "altitudes.shape"
      ],
      "execution_count": null,
      "outputs": [
        {
          "output_type": "execute_result",
          "data": {
            "text/plain": [
              "(2600, 1400)"
            ]
          },
          "metadata": {
            "tags": []
          },
          "execution_count": 9
        }
      ]
    },
    {
      "cell_type": "code",
      "metadata": {
        "id": "ulUg1o7zKwEW",
        "colab_type": "code",
        "colab": {}
      },
      "source": [
        "import pykrige.kriging_tools as kt\n",
        "from pykrige.ok import OrdinaryKriging\n",
        "# altitude = OrdinaryKriging(lst07['Easting'], lst07['Northing'], lst['elevation'], variogram_model='spherical',\n",
        "#                      verbose=False, enable_plotting=False, nlags=50)"
      ],
      "execution_count": null,
      "outputs": []
    },
    {
      "cell_type": "code",
      "metadata": {
        "id": "kFjqkO79LPUH",
        "colab_type": "code",
        "colab": {}
      },
      "source": [
        "gridx = np.arange(0.0, 700, 5)\n",
        "gridy = np.arange(0.0, 1300, 5)\n",
        "\n",
        "landmask=np.loadtxt('/content/drive/My Drive/Project/total_landcover')>80\n"
      ],
      "execution_count": null,
      "outputs": []
    },
    {
      "cell_type": "code",
      "metadata": {
        "id": "t46WpD7PLCC7",
        "colab_type": "code",
        "colab": {
          "base_uri": "https://localhost:8080/",
          "height": 449
        },
        "outputId": "0387f39b-4654-417a-bc7a-33a7092704a5"
      },
      "source": [
        "plt.figure(figsize=(13,7))\n",
        "plt.imshow(ss)\n"
      ],
      "execution_count": null,
      "outputs": [
        {
          "output_type": "execute_result",
          "data": {
            "text/plain": [
              "<matplotlib.image.AxesImage at 0x7f0b7188d6a0>"
            ]
          },
          "metadata": {
            "tags": []
          },
          "execution_count": 34
        },
        {
          "output_type": "display_data",
          "data": {
            "image/png": "[encoded data removed]",
            "text/plain": [
              "<Figure size 936x504 with 1 Axes>"
            ]
          },
          "metadata": {
            "tags": [],
            "needs_background": "light"
          }
        }
      ]
    },
    {
      "cell_type": "code",
      "metadata": {
        "id": "yV5Adp8ah9Cx",
        "colab_type": "code",
        "colab": {
          "base_uri": "https://localhost:8080/",
          "height": 34
        },
        "outputId": "38f8dd0d-a915-4780-acf2-bbb8dee8dba3"
      },
      "source": [
        "z.data.shape"
      ],
      "execution_count": null,
      "outputs": [
        {
          "output_type": "execute_result",
          "data": {
            "text/plain": [
              "(260, 140)"
            ]
          },
          "metadata": {
            "tags": []
          },
          "execution_count": 32
        }
      ]
    },
    {
      "cell_type": "code",
      "metadata": {
        "id": "mEyZkjykLF2i",
        "colab_type": "code",
        "colab": {
          "base_uri": "https://localhost:8080/",
          "height": 265
        },
        "outputId": "f6c6ea1b-0b64-4431-a6d9-c8450e938ef4"
      },
      "source": [
        "OK.display_variogram_model()"
      ],
      "execution_count": null,
      "outputs": [
        {
          "output_type": "display_data",
          "data": {
            "image/png": "[encoded data removed]",
            "text/plain": [
              "<Figure size 432x288 with 1 Axes>"
            ]
          },
          "metadata": {
            "tags": [],
            "needs_background": "light"
          }
        }
      ]
    },
    {
      "cell_type": "code",
      "metadata": {
        "id": "2FXKyOY_Ll7w",
        "colab_type": "code",
        "colab": {
          "base_uri": "https://localhost:8080/",
          "height": 182
        },
        "outputId": "d7a722d8-3134-4af3-e95d-fac00c74c9a1"
      },
      "source": [
        "OK_lst_july = OrdinaryKriging(lst['Easting'], lst['Northing'], lst['July_2007_LST'], variogram_model='spherical',\n",
        "                     verbose=False, enable_plotting=False, nlags=50)"
      ],
      "execution_count": null,
      "outputs": [
        {
          "output_type": "error",
          "ename": "NameError",
          "evalue": "ignored",
          "traceback": [
            "\u001b[0;31m---------------------------------------------------------------------------\u001b[0m",
            "\u001b[0;31mNameError\u001b[0m                                 Traceback (most recent call last)",
            "\u001b[0;32m<ipython-input-9-1f2b8fb1d6e3>\u001b[0m in \u001b[0;36m<module>\u001b[0;34m()\u001b[0m\n\u001b[0;32m----> 1\u001b[0;31m OK_lst_july = OrdinaryKriging(lst['Easting'], lst['Northing'], lst['July_2007_LST'], variogram_model='spherical',\n\u001b[0m\u001b[1;32m      2\u001b[0m                      verbose=False, enable_plotting=False, nlags=50)\n",
            "\u001b[0;31mNameError\u001b[0m: name 'lst' is not defined"
          ]
        }
      ]
    },
    {
      "cell_type": "code",
      "metadata": {
        "id": "9mAh7H2FVfQk",
        "colab_type": "code",
        "colab": {
          "base_uri": "https://localhost:8080/",
          "height": 265
        },
        "outputId": "bc581fb7-429f-4954-e386-7b780283aad7"
      },
      "source": [
        "OK_lst_july.display_variogram_model()"
      ],
      "execution_count": null,
      "outputs": [
        {
          "output_type": "display_data",
          "data": {
            "image/png": "[encoded data removed]",
            "text/plain": [
              "<Figure size 432x288 with 1 Axes>"
            ]
          },
          "metadata": {
            "tags": [],
            "needs_background": "light"
          }
        }
      ]
    },
    {
      "cell_type": "code",
      "metadata": {
        "id": "P_kmkefzWDU_",
        "colab_type": "code",
        "colab": {}
      },
      "source": [
        "OK_lst_feb = OrdinaryKriging(lst['Easting'], lst['Northing'], lst['Feb_2007_LST'], variogram_model='gaussian',\n",
        "                     verbose=False, enable_plotting=False, nlags=30)"
      ],
      "execution_count": null,
      "outputs": []
    },
    {
      "cell_type": "code",
      "metadata": {
        "id": "DvL6B92WWWGd",
        "colab_type": "code",
        "colab": {
          "base_uri": "https://localhost:8080/",
          "height": 269
        },
        "outputId": "8631b97b-c7f5-4a57-a229-811027c70075"
      },
      "source": [
        "OK_lst_feb.display_variogram_model() "
      ],
      "execution_count": null,
      "outputs": [
        {
          "output_type": "display_data",
          "data": {
            "image/png": "[encoded data removed]",
            "text/plain": [
              "<Figure size 432x288 with 1 Axes>"
            ]
          },
          "metadata": {
            "tags": [],
            "needs_background": "light"
          }
        }
      ]
    },
    {
      "cell_type": "code",
      "metadata": {
        "id": "2EFN37JQWihG",
        "colab_type": "code",
        "colab": {
          "base_uri": "https://localhost:8080/",
          "height": 34
        },
        "outputId": "c89ead3e-19ca-4044-b6da-aa8c2f09daa2"
      },
      "source": [
        ""
      ],
      "execution_count": null,
      "outputs": [
        {
          "output_type": "execute_result",
          "data": {
            "text/plain": [
              "(None, None, None)"
            ]
          },
          "metadata": {
            "tags": []
          },
          "execution_count": 13
        }
      ]
    },
    {
      "cell_type": "markdown",
      "metadata": {
        "id": "pTMie4R3zcWl",
        "colab_type": "text"
      },
      "source": [
        "**Kriging for whole altitude grid**"
      ]
    },
    {
      "cell_type": "code",
      "metadata": {
        "id": "-bt63DKczfH0",
        "colab_type": "code",
        "colab": {}
      },
      "source": [
        "shape=list(altitudes.shape)\n",
        "shape.append(2)\n",
        "coordinates=np.zeros(shape)"
      ],
      "execution_count": null,
      "outputs": []
    },
    {
      "cell_type": "code",
      "metadata": {
        "id": "baPOrcOYzj7o",
        "colab_type": "code",
        "colab": {}
      },
      "source": [
        "for i in range(coordinates.shape[0]):\n",
        "  for j in range(coordinates.shape[1]):\n",
        "    coordinates[i,j,0]=i/2\n",
        "    coordinates[i,j,1]=j/2"
      ],
      "execution_count": null,
      "outputs": []
    },
    {
      "cell_type": "code",
      "metadata": {
        "id": "GGvcBRLcz3LB",
        "colab_type": "code",
        "colab": {
          "base_uri": "https://localhost:8080/",
          "height": 34
        },
        "outputId": "d585f2c9-0d60-4a9a-de7c-ec36b6bb7cf6"
      },
      "source": [
        "coordinates[:,:,0]"
      ],
      "execution_count": null,
      "outputs": [
        {
          "output_type": "execute_result",
          "data": {
            "text/plain": [
              "array([   0. ,    0. ,    0. , ..., 1299.5, 1299.5, 1299.5])"
            ]
          },
          "metadata": {
            "tags": []
          },
          "execution_count": 26
        }
      ]
    },
    {
      "cell_type": "code",
      "metadata": {
        "id": "oZEVviki013v",
        "colab_type": "code",
        "colab": {
          "base_uri": "https://localhost:8080/",
          "height": 216
        },
        "outputId": "84cdea35-e5bf-49cb-c382-eae580f8389f"
      },
      "source": [
        "import pykrige.kriging_tools as kt\n",
        "from pykrige.ok import OrdinaryKriging\n",
        "\n",
        "OK = OrdinaryKriging(coordinates[:,:,1].flatten(), coordinates[:,:,0].flatten(), altitudes.flatten(), variogram_model='gaussian',\n",
        "                     verbose=False, enable_plotting=False, nlags=15)"
      ],
      "execution_count": null,
      "outputs": [
        {
          "output_type": "error",
          "ename": "NameError",
          "evalue": "ignored",
          "traceback": [
            "\u001b[0;31m---------------------------------------------------------------------------\u001b[0m",
            "\u001b[0;31mNameError\u001b[0m                                 Traceback (most recent call last)",
            "\u001b[0;32m<ipython-input-1-ac0d99b92f46>\u001b[0m in \u001b[0;36m<module>\u001b[0;34m()\u001b[0m\n\u001b[1;32m      2\u001b[0m \u001b[0;32mfrom\u001b[0m \u001b[0mpykrige\u001b[0m\u001b[0;34m.\u001b[0m\u001b[0mok\u001b[0m \u001b[0;32mimport\u001b[0m \u001b[0mOrdinaryKriging\u001b[0m\u001b[0;34m\u001b[0m\u001b[0;34m\u001b[0m\u001b[0m\n\u001b[1;32m      3\u001b[0m \u001b[0;34m\u001b[0m\u001b[0m\n\u001b[0;32m----> 4\u001b[0;31m OK = OrdinaryKriging(coordinates[:,:,1].flatten(), coordinates[:,:,0].flatten(), altitudes.flatten(), variogram_model='gaussian',\n\u001b[0m\u001b[1;32m      5\u001b[0m                      verbose=False, enable_plotting=False, nlags=15)\n",
            "\u001b[0;31mNameError\u001b[0m: name 'coordinates' is not defined"
          ]
        }
      ]
    },
    {
      "cell_type": "code",
      "metadata": {
        "id": "aZb2nMOC1XGZ",
        "colab_type": "code",
        "colab": {
          "base_uri": "https://localhost:8080/",
          "height": 468
        },
        "outputId": "04117b8b-671c-4615-a6f9-65dbcf514d5c"
      },
      "source": [
        "combined"
      ],
      "execution_count": null,
      "outputs": [
        {
          "output_type": "execute_result",
          "data": {
            "text/html": [
              "<div>\n",
              "<style scoped>\n",
              "    .dataframe tbody tr th:only-of-type {\n",
              "        vertical-align: middle;\n",
              "    }\n",
              "\n",
              "    .dataframe tbody tr th {\n",
              "        vertical-align: top;\n",
              "    }\n",
              "\n",
              "    .dataframe thead th {\n",
              "        text-align: right;\n",
              "    }\n",
              "</style>\n",
              "<table border=\"1\" class=\"dataframe\">\n",
              "  <thead>\n",
              "    <tr style=\"text-align: right;\">\n",
              "      <th></th>\n",
              "      <th>Northing</th>\n",
              "      <th>Easting</th>\n",
              "      <th>Broadleaf woodland</th>\n",
              "      <th>Coniferous woodland</th>\n",
              "      <th>Arable</th>\n",
              "      <th>Improved Grassland</th>\n",
              "      <th>Semi-natural grassland</th>\n",
              "      <th>Mountain Heath</th>\n",
              "      <th>Saltwater</th>\n",
              "      <th>Freshwater</th>\n",
              "      <th>Coastal</th>\n",
              "      <th>Built-up/gardens</th>\n",
              "      <th>elevation</th>\n",
              "      <th>pop_density</th>\n",
              "      <th>Feb_2007_EVI</th>\n",
              "      <th>Jul_2007_EVI</th>\n",
              "      <th>Nov_2007_EVI</th>\n",
              "      <th>Inland</th>\n",
              "      <th>topography</th>\n",
              "      <th>Mineral</th>\n",
              "      <th>Organic Mineral</th>\n",
              "      <th>Organic</th>\n",
              "      <th>Feb_2007_LST</th>\n",
              "      <th>Jul_2007_LST</th>\n",
              "      <th>Nov_2007_LST</th>\n",
              "      <th>Feb_2015_LST</th>\n",
              "      <th>Jul_2015_LST</th>\n",
              "      <th>Nov_2015_LST</th>\n",
              "      <th>Northing</th>\n",
              "      <th>Easting</th>\n",
              "      <th>Broadleaf woodland</th>\n",
              "      <th>Coniferous woodland</th>\n",
              "      <th>Arable</th>\n",
              "      <th>Improved Grassland</th>\n",
              "      <th>Semi-natural grassland</th>\n",
              "      <th>Mountain Heath</th>\n",
              "      <th>Saltwater</th>\n",
              "      <th>Freshwater</th>\n",
              "      <th>Coastal</th>\n",
              "      <th>Built-up/gardens</th>\n",
              "      <th>elevation</th>\n",
              "      <th>pop_density</th>\n",
              "      <th>Feb_2015_EVI</th>\n",
              "      <th>Jul_2015_EVI</th>\n",
              "      <th>Nov_2015_EVI</th>\n",
              "      <th>Inland</th>\n",
              "      <th>topography</th>\n",
              "      <th>Mineral</th>\n",
              "      <th>Organic Mineral</th>\n",
              "      <th>Organic</th>\n",
              "    </tr>\n",
              "  </thead>\n",
              "  <tbody>\n",
              "    <tr>\n",
              "      <th>0</th>\n",
              "      <td>661.0</td>\n",
              "      <td>348.0</td>\n",
              "      <td>5</td>\n",
              "      <td>9</td>\n",
              "      <td>15</td>\n",
              "      <td>29</td>\n",
              "      <td>27</td>\n",
              "      <td>6</td>\n",
              "      <td>0</td>\n",
              "      <td>0</td>\n",
              "      <td>0</td>\n",
              "      <td>3</td>\n",
              "      <td>224</td>\n",
              "      <td>2.820140</td>\n",
              "      <td>0.237948</td>\n",
              "      <td>0.350908</td>\n",
              "      <td>0.237948</td>\n",
              "      <td>38.013156</td>\n",
              "      <td>142.0</td>\n",
              "      <td>0.0</td>\n",
              "      <td>1.0</td>\n",
              "      <td>0.0</td>\n",
              "      <td>13927.727273</td>\n",
              "      <td>14543.400000</td>\n",
              "      <td>13905.375000</td>\n",
              "      <td>13886.000000</td>\n",
              "      <td>14451.500000</td>\n",
              "      <td>13966.375000</td>\n",
              "      <td>661.0</td>\n",
              "      <td>348.0</td>\n",
              "      <td>7</td>\n",
              "      <td>6</td>\n",
              "      <td>4</td>\n",
              "      <td>46</td>\n",
              "      <td>24</td>\n",
              "      <td>3</td>\n",
              "      <td>0</td>\n",
              "      <td>0</td>\n",
              "      <td>0</td>\n",
              "      <td>4</td>\n",
              "      <td>224</td>\n",
              "      <td>2.820140</td>\n",
              "      <td>0.266497</td>\n",
              "      <td>0.409058</td>\n",
              "      <td>0.184043</td>\n",
              "      <td>38.013156</td>\n",
              "      <td>142.0</td>\n",
              "      <td>0.0</td>\n",
              "      <td>1.0</td>\n",
              "      <td>0.0</td>\n",
              "    </tr>\n",
              "    <tr>\n",
              "      <th>1</th>\n",
              "      <td>849.0</td>\n",
              "      <td>367.0</td>\n",
              "      <td>6</td>\n",
              "      <td>3</td>\n",
              "      <td>0</td>\n",
              "      <td>40</td>\n",
              "      <td>18</td>\n",
              "      <td>27</td>\n",
              "      <td>0</td>\n",
              "      <td>0</td>\n",
              "      <td>0</td>\n",
              "      <td>0</td>\n",
              "      <td>160</td>\n",
              "      <td>3.071964</td>\n",
              "      <td>0.137649</td>\n",
              "      <td>0.308139</td>\n",
              "      <td>0.137649</td>\n",
              "      <td>29.966648</td>\n",
              "      <td>281.0</td>\n",
              "      <td>0.0</td>\n",
              "      <td>1.0</td>\n",
              "      <td>0.0</td>\n",
              "      <td>13992.666667</td>\n",
              "      <td>14504.200000</td>\n",
              "      <td>13944.000000</td>\n",
              "      <td>13735.714286</td>\n",
              "      <td>14672.400000</td>\n",
              "      <td>14050.000000</td>\n",
              "      <td>849.0</td>\n",
              "      <td>367.0</td>\n",
              "      <td>4</td>\n",
              "      <td>3</td>\n",
              "      <td>0</td>\n",
              "      <td>48</td>\n",
              "      <td>16</td>\n",
              "      <td>23</td>\n",
              "      <td>0</td>\n",
              "      <td>0</td>\n",
              "      <td>0</td>\n",
              "      <td>0</td>\n",
              "      <td>160</td>\n",
              "      <td>3.071964</td>\n",
              "      <td>0.162542</td>\n",
              "      <td>0.407614</td>\n",
              "      <td>0.111527</td>\n",
              "      <td>29.966648</td>\n",
              "      <td>281.0</td>\n",
              "      <td>0.0</td>\n",
              "      <td>1.0</td>\n",
              "      <td>0.0</td>\n",
              "    </tr>\n",
              "    <tr>\n",
              "      <th>2</th>\n",
              "      <td>866.0</td>\n",
              "      <td>369.0</td>\n",
              "      <td>7</td>\n",
              "      <td>0</td>\n",
              "      <td>2</td>\n",
              "      <td>59</td>\n",
              "      <td>7</td>\n",
              "      <td>0</td>\n",
              "      <td>0</td>\n",
              "      <td>0</td>\n",
              "      <td>0</td>\n",
              "      <td>17</td>\n",
              "      <td>101</td>\n",
              "      <td>89.064470</td>\n",
              "      <td>0.238271</td>\n",
              "      <td>0.223778</td>\n",
              "      <td>0.238271</td>\n",
              "      <td>38.600518</td>\n",
              "      <td>28.0</td>\n",
              "      <td>0.0</td>\n",
              "      <td>1.0</td>\n",
              "      <td>0.0</td>\n",
              "      <td>13950.444444</td>\n",
              "      <td>14162.000000</td>\n",
              "      <td>13912.500000</td>\n",
              "      <td>13836.333333</td>\n",
              "      <td>14481.166667</td>\n",
              "      <td>14009.500000</td>\n",
              "      <td>866.0</td>\n",
              "      <td>369.0</td>\n",
              "      <td>7</td>\n",
              "      <td>0</td>\n",
              "      <td>3</td>\n",
              "      <td>64</td>\n",
              "      <td>1</td>\n",
              "      <td>0</td>\n",
              "      <td>0</td>\n",
              "      <td>0</td>\n",
              "      <td>0</td>\n",
              "      <td>18</td>\n",
              "      <td>101</td>\n",
              "      <td>89.064470</td>\n",
              "      <td>0.186747</td>\n",
              "      <td>0.397120</td>\n",
              "      <td>0.138902</td>\n",
              "      <td>38.600518</td>\n",
              "      <td>28.0</td>\n",
              "      <td>0.0</td>\n",
              "      <td>1.0</td>\n",
              "      <td>0.0</td>\n",
              "    </tr>\n",
              "    <tr>\n",
              "      <th>3</th>\n",
              "      <td>1059.0</td>\n",
              "      <td>336.0</td>\n",
              "      <td>7</td>\n",
              "      <td>2</td>\n",
              "      <td>58</td>\n",
              "      <td>17</td>\n",
              "      <td>8</td>\n",
              "      <td>0</td>\n",
              "      <td>0</td>\n",
              "      <td>0</td>\n",
              "      <td>0</td>\n",
              "      <td>0</td>\n",
              "      <td>87</td>\n",
              "      <td>18.957787</td>\n",
              "      <td>0.126493</td>\n",
              "      <td>0.335886</td>\n",
              "      <td>0.126493</td>\n",
              "      <td>53.851648</td>\n",
              "      <td>-59.0</td>\n",
              "      <td>1.0</td>\n",
              "      <td>0.0</td>\n",
              "      <td>0.0</td>\n",
              "      <td>13891.555556</td>\n",
              "      <td>14670.555556</td>\n",
              "      <td>13984.666667</td>\n",
              "      <td>13909.857143</td>\n",
              "      <td>14681.833333</td>\n",
              "      <td>14039.000000</td>\n",
              "      <td>1059.0</td>\n",
              "      <td>336.0</td>\n",
              "      <td>12</td>\n",
              "      <td>1</td>\n",
              "      <td>36</td>\n",
              "      <td>44</td>\n",
              "      <td>1</td>\n",
              "      <td>0</td>\n",
              "      <td>0</td>\n",
              "      <td>0</td>\n",
              "      <td>0</td>\n",
              "      <td>0</td>\n",
              "      <td>87</td>\n",
              "      <td>18.957787</td>\n",
              "      <td>0.204028</td>\n",
              "      <td>0.376539</td>\n",
              "      <td>0.124088</td>\n",
              "      <td>53.851648</td>\n",
              "      <td>-59.0</td>\n",
              "      <td>1.0</td>\n",
              "      <td>0.0</td>\n",
              "      <td>0.0</td>\n",
              "    </tr>\n",
              "    <tr>\n",
              "      <th>4</th>\n",
              "      <td>1085.0</td>\n",
              "      <td>525.0</td>\n",
              "      <td>14</td>\n",
              "      <td>0</td>\n",
              "      <td>35</td>\n",
              "      <td>25</td>\n",
              "      <td>0</td>\n",
              "      <td>0</td>\n",
              "      <td>0</td>\n",
              "      <td>0</td>\n",
              "      <td>0</td>\n",
              "      <td>20</td>\n",
              "      <td>62</td>\n",
              "      <td>627.128300</td>\n",
              "      <td>0.149533</td>\n",
              "      <td>0.266729</td>\n",
              "      <td>0.149533</td>\n",
              "      <td>67.475922</td>\n",
              "      <td>-22.0</td>\n",
              "      <td>1.0</td>\n",
              "      <td>0.0</td>\n",
              "      <td>0.0</td>\n",
              "      <td>13929.000000</td>\n",
              "      <td>14715.000000</td>\n",
              "      <td>14102.444444</td>\n",
              "      <td>13960.875000</td>\n",
              "      <td>15053.500000</td>\n",
              "      <td>14138.166667</td>\n",
              "      <td>1085.0</td>\n",
              "      <td>525.0</td>\n",
              "      <td>13</td>\n",
              "      <td>0</td>\n",
              "      <td>37</td>\n",
              "      <td>22</td>\n",
              "      <td>0</td>\n",
              "      <td>0</td>\n",
              "      <td>0</td>\n",
              "      <td>0</td>\n",
              "      <td>0</td>\n",
              "      <td>23</td>\n",
              "      <td>62</td>\n",
              "      <td>627.128300</td>\n",
              "      <td>0.143604</td>\n",
              "      <td>0.277279</td>\n",
              "      <td>0.115658</td>\n",
              "      <td>67.475922</td>\n",
              "      <td>-22.0</td>\n",
              "      <td>1.0</td>\n",
              "      <td>0.0</td>\n",
              "      <td>0.0</td>\n",
              "    </tr>\n",
              "    <tr>\n",
              "      <th>...</th>\n",
              "      <td>...</td>\n",
              "      <td>...</td>\n",
              "      <td>...</td>\n",
              "      <td>...</td>\n",
              "      <td>...</td>\n",
              "      <td>...</td>\n",
              "      <td>...</td>\n",
              "      <td>...</td>\n",
              "      <td>...</td>\n",
              "      <td>...</td>\n",
              "      <td>...</td>\n",
              "      <td>...</td>\n",
              "      <td>...</td>\n",
              "      <td>...</td>\n",
              "      <td>...</td>\n",
              "      <td>...</td>\n",
              "      <td>...</td>\n",
              "      <td>...</td>\n",
              "      <td>...</td>\n",
              "      <td>...</td>\n",
              "      <td>...</td>\n",
              "      <td>...</td>\n",
              "      <td>...</td>\n",
              "      <td>...</td>\n",
              "      <td>...</td>\n",
              "      <td>...</td>\n",
              "      <td>...</td>\n",
              "      <td>...</td>\n",
              "      <td>...</td>\n",
              "      <td>...</td>\n",
              "      <td>...</td>\n",
              "      <td>...</td>\n",
              "      <td>...</td>\n",
              "      <td>...</td>\n",
              "      <td>...</td>\n",
              "      <td>...</td>\n",
              "      <td>...</td>\n",
              "      <td>...</td>\n",
              "      <td>...</td>\n",
              "      <td>...</td>\n",
              "      <td>...</td>\n",
              "      <td>...</td>\n",
              "      <td>...</td>\n",
              "      <td>...</td>\n",
              "      <td>...</td>\n",
              "      <td>...</td>\n",
              "      <td>...</td>\n",
              "      <td>...</td>\n",
              "      <td>...</td>\n",
              "      <td>...</td>\n",
              "    </tr>\n",
              "    <tr>\n",
              "      <th>9995</th>\n",
              "      <td>1190.0</td>\n",
              "      <td>539.0</td>\n",
              "      <td>5</td>\n",
              "      <td>0</td>\n",
              "      <td>26</td>\n",
              "      <td>53</td>\n",
              "      <td>3</td>\n",
              "      <td>0</td>\n",
              "      <td>0</td>\n",
              "      <td>0</td>\n",
              "      <td>0</td>\n",
              "      <td>7</td>\n",
              "      <td>86</td>\n",
              "      <td>472.045070</td>\n",
              "      <td>0.240806</td>\n",
              "      <td>0.291955</td>\n",
              "      <td>0.240806</td>\n",
              "      <td>5.830952</td>\n",
              "      <td>274.0</td>\n",
              "      <td>0.0</td>\n",
              "      <td>1.0</td>\n",
              "      <td>0.0</td>\n",
              "      <td>14019.375000</td>\n",
              "      <td>14667.666667</td>\n",
              "      <td>14134.888889</td>\n",
              "      <td>13923.285714</td>\n",
              "      <td>14876.833333</td>\n",
              "      <td>13475.500000</td>\n",
              "      <td>1190.0</td>\n",
              "      <td>539.0</td>\n",
              "      <td>4</td>\n",
              "      <td>0</td>\n",
              "      <td>33</td>\n",
              "      <td>40</td>\n",
              "      <td>7</td>\n",
              "      <td>0</td>\n",
              "      <td>0</td>\n",
              "      <td>0</td>\n",
              "      <td>0</td>\n",
              "      <td>10</td>\n",
              "      <td>86</td>\n",
              "      <td>472.045070</td>\n",
              "      <td>0.198226</td>\n",
              "      <td>0.295441</td>\n",
              "      <td>0.135897</td>\n",
              "      <td>5.830952</td>\n",
              "      <td>274.0</td>\n",
              "      <td>0.0</td>\n",
              "      <td>1.0</td>\n",
              "      <td>0.0</td>\n",
              "    </tr>\n",
              "    <tr>\n",
              "      <th>9996</th>\n",
              "      <td>548.0</td>\n",
              "      <td>303.0</td>\n",
              "      <td>3</td>\n",
              "      <td>8</td>\n",
              "      <td>2</td>\n",
              "      <td>10</td>\n",
              "      <td>13</td>\n",
              "      <td>57</td>\n",
              "      <td>0</td>\n",
              "      <td>1</td>\n",
              "      <td>0</td>\n",
              "      <td>0</td>\n",
              "      <td>358</td>\n",
              "      <td>2.517340</td>\n",
              "      <td>0.124496</td>\n",
              "      <td>0.253098</td>\n",
              "      <td>0.124496</td>\n",
              "      <td>47.885280</td>\n",
              "      <td>-142.0</td>\n",
              "      <td>1.0</td>\n",
              "      <td>0.0</td>\n",
              "      <td>0.0</td>\n",
              "      <td>13843.800000</td>\n",
              "      <td>14507.333333</td>\n",
              "      <td>13894.916667</td>\n",
              "      <td>13873.666667</td>\n",
              "      <td>14544.000000</td>\n",
              "      <td>13884.571429</td>\n",
              "      <td>548.0</td>\n",
              "      <td>303.0</td>\n",
              "      <td>6</td>\n",
              "      <td>9</td>\n",
              "      <td>1</td>\n",
              "      <td>12</td>\n",
              "      <td>8</td>\n",
              "      <td>56</td>\n",
              "      <td>0</td>\n",
              "      <td>1</td>\n",
              "      <td>0</td>\n",
              "      <td>0</td>\n",
              "      <td>358</td>\n",
              "      <td>2.517340</td>\n",
              "      <td>0.160204</td>\n",
              "      <td>0.294875</td>\n",
              "      <td>0.066827</td>\n",
              "      <td>47.885280</td>\n",
              "      <td>-142.0</td>\n",
              "      <td>1.0</td>\n",
              "      <td>0.0</td>\n",
              "      <td>0.0</td>\n",
              "    </tr>\n",
              "    <tr>\n",
              "      <th>9997</th>\n",
              "      <td>1173.0</td>\n",
              "      <td>272.0</td>\n",
              "      <td>7</td>\n",
              "      <td>2</td>\n",
              "      <td>15</td>\n",
              "      <td>65</td>\n",
              "      <td>3</td>\n",
              "      <td>0</td>\n",
              "      <td>0</td>\n",
              "      <td>0</td>\n",
              "      <td>0</td>\n",
              "      <td>1</td>\n",
              "      <td>109</td>\n",
              "      <td>22.139850</td>\n",
              "      <td>0.196956</td>\n",
              "      <td>0.270083</td>\n",
              "      <td>0.196956</td>\n",
              "      <td>22.847319</td>\n",
              "      <td>-27.0</td>\n",
              "      <td>1.0</td>\n",
              "      <td>0.0</td>\n",
              "      <td>0.0</td>\n",
              "      <td>14058.750000</td>\n",
              "      <td>14656.000000</td>\n",
              "      <td>14016.750000</td>\n",
              "      <td>13922.555556</td>\n",
              "      <td>14650.000000</td>\n",
              "      <td>13875.833333</td>\n",
              "      <td>1173.0</td>\n",
              "      <td>272.0</td>\n",
              "      <td>8</td>\n",
              "      <td>2</td>\n",
              "      <td>18</td>\n",
              "      <td>64</td>\n",
              "      <td>0</td>\n",
              "      <td>0</td>\n",
              "      <td>0</td>\n",
              "      <td>0</td>\n",
              "      <td>0</td>\n",
              "      <td>2</td>\n",
              "      <td>109</td>\n",
              "      <td>22.139850</td>\n",
              "      <td>0.217372</td>\n",
              "      <td>0.318697</td>\n",
              "      <td>0.105915</td>\n",
              "      <td>22.847319</td>\n",
              "      <td>-27.0</td>\n",
              "      <td>1.0</td>\n",
              "      <td>0.0</td>\n",
              "      <td>0.0</td>\n",
              "    </tr>\n",
              "    <tr>\n",
              "      <th>9998</th>\n",
              "      <td>1007.0</td>\n",
              "      <td>397.0</td>\n",
              "      <td>2</td>\n",
              "      <td>0</td>\n",
              "      <td>3</td>\n",
              "      <td>11</td>\n",
              "      <td>0</td>\n",
              "      <td>0</td>\n",
              "      <td>0</td>\n",
              "      <td>0</td>\n",
              "      <td>0</td>\n",
              "      <td>80</td>\n",
              "      <td>131</td>\n",
              "      <td>4554.672400</td>\n",
              "      <td>0.070320</td>\n",
              "      <td>0.166667</td>\n",
              "      <td>0.070320</td>\n",
              "      <td>113.718952</td>\n",
              "      <td>19.0</td>\n",
              "      <td>1.0</td>\n",
              "      <td>0.0</td>\n",
              "      <td>0.0</td>\n",
              "      <td>13994.857143</td>\n",
              "      <td>14806.222222</td>\n",
              "      <td>14130.500000</td>\n",
              "      <td>13983.111111</td>\n",
              "      <td>14982.000000</td>\n",
              "      <td>14071.500000</td>\n",
              "      <td>1007.0</td>\n",
              "      <td>397.0</td>\n",
              "      <td>2</td>\n",
              "      <td>0</td>\n",
              "      <td>1</td>\n",
              "      <td>7</td>\n",
              "      <td>0</td>\n",
              "      <td>0</td>\n",
              "      <td>0</td>\n",
              "      <td>0</td>\n",
              "      <td>0</td>\n",
              "      <td>84</td>\n",
              "      <td>131</td>\n",
              "      <td>4554.672400</td>\n",
              "      <td>0.073894</td>\n",
              "      <td>0.182156</td>\n",
              "      <td>0.010576</td>\n",
              "      <td>113.718952</td>\n",
              "      <td>19.0</td>\n",
              "      <td>1.0</td>\n",
              "      <td>0.0</td>\n",
              "      <td>0.0</td>\n",
              "    </tr>\n",
              "    <tr>\n",
              "      <th>9999</th>\n",
              "      <td>1067.0</td>\n",
              "      <td>267.0</td>\n",
              "      <td>5</td>\n",
              "      <td>2</td>\n",
              "      <td>2</td>\n",
              "      <td>70</td>\n",
              "      <td>15</td>\n",
              "      <td>0</td>\n",
              "      <td>0</td>\n",
              "      <td>0</td>\n",
              "      <td>0</td>\n",
              "      <td>0</td>\n",
              "      <td>164</td>\n",
              "      <td>15.277124</td>\n",
              "      <td>0.208166</td>\n",
              "      <td>0.292585</td>\n",
              "      <td>0.208166</td>\n",
              "      <td>37.443290</td>\n",
              "      <td>-89.0</td>\n",
              "      <td>0.0</td>\n",
              "      <td>1.0</td>\n",
              "      <td>0.0</td>\n",
              "      <td>13991.571429</td>\n",
              "      <td>14601.000000</td>\n",
              "      <td>13915.000000</td>\n",
              "      <td>13880.250000</td>\n",
              "      <td>14686.750000</td>\n",
              "      <td>14272.800000</td>\n",
              "      <td>1067.0</td>\n",
              "      <td>267.0</td>\n",
              "      <td>10</td>\n",
              "      <td>2</td>\n",
              "      <td>4</td>\n",
              "      <td>74</td>\n",
              "      <td>4</td>\n",
              "      <td>0</td>\n",
              "      <td>0</td>\n",
              "      <td>0</td>\n",
              "      <td>0</td>\n",
              "      <td>0</td>\n",
              "      <td>164</td>\n",
              "      <td>15.277124</td>\n",
              "      <td>0.209795</td>\n",
              "      <td>0.358701</td>\n",
              "      <td>0.122004</td>\n",
              "      <td>37.443290</td>\n",
              "      <td>-89.0</td>\n",
              "      <td>0.0</td>\n",
              "      <td>1.0</td>\n",
              "      <td>0.0</td>\n",
              "    </tr>\n",
              "  </tbody>\n",
              "</table>\n",
              "<p>9631 rows × 50 columns</p>\n",
              "</div>"
            ],
            "text/plain": [
              "      Northing  Easting  Broadleaf woodland  ...  Mineral  Organic Mineral  Organic\n",
              "0        661.0    348.0                   5  ...      0.0              1.0      0.0\n",
              "1        849.0    367.0                   6  ...      0.0              1.0      0.0\n",
              "2        866.0    369.0                   7  ...      0.0              1.0      0.0\n",
              "3       1059.0    336.0                   7  ...      1.0              0.0      0.0\n",
              "4       1085.0    525.0                  14  ...      1.0              0.0      0.0\n",
              "...        ...      ...                 ...  ...      ...              ...      ...\n",
              "9995    1190.0    539.0                   5  ...      0.0              1.0      0.0\n",
              "9996     548.0    303.0                   3  ...      1.0              0.0      0.0\n",
              "9997    1173.0    272.0                   7  ...      1.0              0.0      0.0\n",
              "9998    1007.0    397.0                   2  ...      1.0              0.0      0.0\n",
              "9999    1067.0    267.0                   5  ...      0.0              1.0      0.0\n",
              "\n",
              "[9631 rows x 50 columns]"
            ]
          },
          "metadata": {
            "tags": []
          },
          "execution_count": 13
        }
      ]
    },
    {
      "cell_type": "markdown",
      "metadata": {
        "id": "BtZ9SqOmd9XN",
        "colab_type": "text"
      },
      "source": [
        "ALtitude "
      ]
    },
    {
      "cell_type": "code",
      "metadata": {
        "id": "TTq-MPyXd_SZ",
        "colab_type": "code",
        "colab": {
          "base_uri": "https://localhost:8080/",
          "height": 265
        },
        "outputId": "b96dfd1f-1172-4949-bc94-a7b29f9649af"
      },
      "source": [
        "altitude = OrdinaryKriging(lst07['Easting'], lst07['Northing'], lst07['elevation'], variogram_model='gaussian',\n",
        "                     verbose=False, enable_plotting=False, nlags=50)\n",
        "\n",
        "altitude.display_variogram_model() "
      ],
      "execution_count": null,
      "outputs": [
        {
          "output_type": "display_data",
          "data": {
            "image/png": "[encoded data removed]",
            "text/plain": [
              "<Figure size 432x288 with 1 Axes>"
            ]
          },
          "metadata": {
            "tags": [],
            "needs_background": "light"
          }
        }
      ]
    },
    {
      "cell_type": "markdown",
      "metadata": {
        "id": "xBhSmbxcdq0t",
        "colab_type": "text"
      },
      "source": [
        ""
      ]
    },
    {
      "cell_type": "code",
      "metadata": {
        "id": "Gp9UGQu4eDJe",
        "colab_type": "code",
        "colab": {
          "base_uri": "https://localhost:8080/",
          "height": 269
        },
        "outputId": "145460e3-8c51-447a-ea55-8531dd3000c9"
      },
      "source": [
        "feb=OrdinaryKriging(combined07['Easting'], combined07['Northing'], combined07['Feb_2007_LST'], variogram_model='gaussian',\n",
        "                     verbose=False, enable_plotting=False, nlags=30)\n",
        "feb.display_variogram_model() "
      ],
      "execution_count": null,
      "outputs": [
        {
          "output_type": "display_data",
          "data": {
            "image/png": "[encoded data removed]",
            "text/plain": [
              "<Figure size 432x288 with 1 Axes>"
            ]
          },
          "metadata": {
            "tags": [],
            "needs_background": "light"
          }
        }
      ]
    },
    {
      "cell_type": "code",
      "metadata": {
        "id": "tEWmk5GgetaW",
        "colab_type": "code",
        "colab": {
          "base_uri": "https://localhost:8080/",
          "height": 265
        },
        "outputId": "926b3dea-80ba-4eca-9436-da2c1462fdfc"
      },
      "source": [
        "OrdinaryKriging(combined07['Easting'], combined07['Northing'], combined07['Jul_2007_LST'], variogram_model='spherical',\n",
        "                     verbose=False, enable_plotting=False, nlags=50).display_variogram_model() "
      ],
      "execution_count": null,
      "outputs": [
        {
          "output_type": "display_data",
          "data": {
            "image/png": "[encoded data removed]",
            "text/plain": [
              "<Figure size 432x288 with 1 Axes>"
            ]
          },
          "metadata": {
            "tags": [],
            "needs_background": "light"
          }
        }
      ]
    },
    {
      "cell_type": "code",
      "metadata": {
        "id": "aLEjzu5Yex21",
        "colab_type": "code",
        "colab": {
          "base_uri": "https://localhost:8080/",
          "height": 265
        },
        "outputId": "f89eca56-6ade-4a5b-a190-201f1da68e07"
      },
      "source": [
        "OrdinaryKriging(combined07['Easting'], combined07['Northing'], combined07['Nov_2007_LST'], variogram_model='spherical',\n",
        "                     verbose=False, enable_plotting=False, nlags=50).display_variogram_model() "
      ],
      "execution_count": null,
      "outputs": [
        {
          "output_type": "display_data",
          "data": {
            "image/png": "[encoded data removed]",
            "text/plain": [
              "<Figure size 432x288 with 1 Axes>"
            ]
          },
          "metadata": {
            "tags": [],
            "needs_background": "light"
          }
        }
      ]
    },
    {
      "cell_type": "code",
      "metadata": {
        "id": "GrEtWbiJezs2",
        "colab_type": "code",
        "colab": {
          "base_uri": "https://localhost:8080/",
          "height": 265
        },
        "outputId": "7c5d1860-4063-46b3-cd08-64580449f9ee"
      },
      "source": [
        "OrdinaryKriging(combined15['Easting'], combined15['Northing'], combined15['Feb_2015_LST'], variogram_model='spherical',\n",
        "                     verbose=False, enable_plotting=False, nlags=50).display_variogram_model() "
      ],
      "execution_count": null,
      "outputs": [
        {
          "output_type": "display_data",
          "data": {
            "image/png": "[encoded data removed]",
            "text/plain": [
              "<Figure size 432x288 with 1 Axes>"
            ]
          },
          "metadata": {
            "tags": [],
            "needs_background": "light"
          }
        }
      ]
    },
    {
      "cell_type": "code",
      "metadata": {
        "id": "Uf3ObHGBe341",
        "colab_type": "code",
        "colab": {
          "base_uri": "https://localhost:8080/",
          "height": 265
        },
        "outputId": "7ff5bb70-0d11-465a-f3b9-04fe0fb8f302"
      },
      "source": [
        "OrdinaryKriging(combined15['Easting'], combined15['Northing'], combined15['Jul_2015_LST'], variogram_model='spherical',\n",
        "                     verbose=False, enable_plotting=False, nlags=50).display_variogram_model() "
      ],
      "execution_count": null,
      "outputs": [
        {
          "output_type": "display_data",
          "data": {
            "image/png": "[encoded data removed]",
            "text/plain": [
              "<Figure size 432x288 with 1 Axes>"
            ]
          },
          "metadata": {
            "tags": [],
            "needs_background": "light"
          }
        }
      ]
    },
    {
      "cell_type": "code",
      "metadata": {
        "id": "z8QIHxczhhAI",
        "colab_type": "code",
        "colab": {
          "base_uri": "https://localhost:8080/",
          "height": 265
        },
        "outputId": "f0935a96-944a-4088-82a5-3da4de1b3a0e"
      },
      "source": [
        "OrdinaryKriging(combined15['Easting'], combined15['Northing'], combined15['Nov_2015_LST'], variogram_model='spherical',\n",
        "                     verbose=False, enable_plotting=False, nlags=50).display_variogram_model() "
      ],
      "execution_count": null,
      "outputs": [
        {
          "output_type": "display_data",
          "data": {
            "image/png": "[encoded data removed]",
            "text/plain": [
              "<Figure size 432x288 with 1 Axes>"
            ]
          },
          "metadata": {
            "tags": [],
            "needs_background": "light"
          }
        }
      ]
    },
    {
      "cell_type": "markdown",
      "metadata": {
        "id": "h59oGj1Fe2ab",
        "colab_type": "text"
      },
      "source": [
        ""
      ]
    }
  ]
}